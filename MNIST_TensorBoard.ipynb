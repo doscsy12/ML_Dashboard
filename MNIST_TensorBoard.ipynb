{
 "cells": [
  {
   "cell_type": "markdown",
   "id": "ee691836",
   "metadata": {},
   "source": [
    "# Experiment with MNIST dataset with TensorBoard"
   ]
  },
  {
   "cell_type": "markdown",
   "id": "d81d9ad6",
   "metadata": {},
   "source": [
    "**The main aim of this notebook is to understand how to use TensorBoard in my machine learning workflow. To do this, I would have to first build a model using the MNIST Handwritten Digits Dataset.**"
   ]
  },
  {
   "cell_type": "markdown",
   "id": "dd7ed92d",
   "metadata": {},
   "source": [
    "*import libraries*"
   ]
  },
  {
   "cell_type": "code",
   "execution_count": 1,
   "id": "b6fb8bd5",
   "metadata": {},
   "outputs": [],
   "source": [
    "import numpy as np\n",
    "import io\n",
    "import matplotlib.pyplot as plt\n",
    "import datetime\n",
    "\n",
    "import tensorflow as tf\n",
    "from tensorflow import keras\n",
    "from tensorflow.keras import utils\n",
    "from tensorflow.keras.datasets import mnist\n",
    "from tensorflow.keras.callbacks import TensorBoard\n",
    "from tensorflow import summary\n",
    "from tensorflow.keras.models import Sequential\n",
    "from tensorflow.keras.layers import Dense, Dropout, Flatten, Conv2D, MaxPooling2D\n",
    "from tensorflow.image import decode_png\n",
    "from tensorflow import expand_dims\n",
    "import visualkeras\n",
    "import itertools \n",
    "from sklearn.metrics import confusion_matrix\n"
   ]
  },
  {
   "cell_type": "markdown",
   "id": "e209fe64",
   "metadata": {},
   "source": [
    "## Dataset"
   ]
  },
  {
   "cell_type": "markdown",
   "id": "6762d172",
   "metadata": {},
   "source": [
    "The MNIST dataset is used in this notebook, and contains the training data, and the test data."
   ]
  },
  {
   "cell_type": "code",
   "execution_count": 2,
   "id": "149451d0",
   "metadata": {},
   "outputs": [],
   "source": [
    "# mnist = tf.keras.datasets.mnist\n",
    "(X_train, y_train), (X_test, y_test) = mnist.load_data()"
   ]
  },
  {
   "cell_type": "code",
   "execution_count": 3,
   "id": "f50021c3",
   "metadata": {},
   "outputs": [],
   "source": [
    "# This scales each value to be between 0 and 1.\n",
    "X_train, X_test = X_train / 255.0, X_test / 255.0"
   ]
  },
  {
   "cell_type": "code",
   "execution_count": 4,
   "id": "475e1cd6",
   "metadata": {},
   "outputs": [
    {
     "data": {
      "text/plain": [
       "(60000, 28, 28)"
      ]
     },
     "execution_count": 4,
     "metadata": {},
     "output_type": "execute_result"
    }
   ],
   "source": [
    "# Check shape of full training data.\n",
    "X_train.shape"
   ]
  },
  {
   "cell_type": "code",
   "execution_count": 5,
   "id": "0eb3a776",
   "metadata": {},
   "outputs": [
    {
     "data": {
      "text/plain": [
       "array([5, 0, 4, ..., 5, 6, 8], dtype=uint8)"
      ]
     },
     "execution_count": 5,
     "metadata": {},
     "output_type": "execute_result"
    }
   ],
   "source": [
    "y_train"
   ]
  },
  {
   "cell_type": "markdown",
   "id": "7a98a15b",
   "metadata": {},
   "source": [
    "https://stackoverflow.com/questions/58565394/what-is-the-difference-between-sparse-categorical-crossentropy-and-categorical-c\n",
    "<br> y_train and y_test were not onehotencoded. This is because the model later will use 'sparse_categorical_crossentropy' as a loss function. If using 'categorical_crossentropy' as loss function, the y labels needed to be hotencoded (as cell below)."
   ]
  },
  {
   "cell_type": "code",
   "execution_count": 6,
   "id": "7a9a0bd7",
   "metadata": {},
   "outputs": [],
   "source": [
    "# # Change y_train.\n",
    "# y_train = utils.to_categorical(y_train, 10)\n",
    "# y_test = utils.to_categorical(y_test, 10)"
   ]
  },
  {
   "cell_type": "markdown",
   "id": "9fd6b718",
   "metadata": {},
   "source": [
    "## Model building"
   ]
  },
  {
   "cell_type": "code",
   "execution_count": 7,
   "id": "dce399d3",
   "metadata": {},
   "outputs": [],
   "source": [
    "model = Sequential([\n",
    "   Flatten(input_shape=(28, 28)),\n",
    "   Dense(512, activation='relu'),\n",
    "   Dropout(0.2),\n",
    "   Dense(10, activation='softmax')])\n"
   ]
  },
  {
   "cell_type": "code",
   "execution_count": 8,
   "id": "0f6f9146",
   "metadata": {},
   "outputs": [
    {
     "name": "stdout",
     "output_type": "stream",
     "text": [
      "Model: \"sequential\"\n",
      "_________________________________________________________________\n",
      "Layer (type)                 Output Shape              Param #   \n",
      "=================================================================\n",
      "flatten (Flatten)            (None, 784)               0         \n",
      "_________________________________________________________________\n",
      "dense (Dense)                (None, 512)               401920    \n",
      "_________________________________________________________________\n",
      "dropout (Dropout)            (None, 512)               0         \n",
      "_________________________________________________________________\n",
      "dense_1 (Dense)              (None, 10)                5130      \n",
      "=================================================================\n",
      "Total params: 407,050\n",
      "Trainable params: 407,050\n",
      "Non-trainable params: 0\n",
      "_________________________________________________________________\n"
     ]
    }
   ],
   "source": [
    "model.summary()"
   ]
  },
  {
   "cell_type": "code",
   "execution_count": 9,
   "id": "d2547168",
   "metadata": {},
   "outputs": [],
   "source": [
    "visualkeras.layered_view(model, to_file='model.png').show()"
   ]
  },
  {
   "cell_type": "code",
   "execution_count": 10,
   "id": "6f4a477f",
   "metadata": {},
   "outputs": [],
   "source": [
    "model.compile(optimizer='sgd', \n",
    "   loss='sparse_categorical_crossentropy',\n",
    "   metrics=['accuracy'])"
   ]
  },
  {
   "cell_type": "code",
   "execution_count": 11,
   "id": "5142bf56",
   "metadata": {},
   "outputs": [],
   "source": [
    "# %load_ext tensorboard\n",
    "%reload_ext tensorboard\n",
    "log_folder = 'logs'"
   ]
  },
  {
   "cell_type": "code",
   "execution_count": 12,
   "id": "1b07d5ad",
   "metadata": {},
   "outputs": [],
   "source": [
    "callbacks = [TensorBoard(log_dir=log_folder,\n",
    "                         histogram_freq=1,\n",
    "                         write_graph=True,\n",
    "                         write_images=True,\n",
    "                         update_freq='epoch',\n",
    "                         profile_batch=2,\n",
    "                         embeddings_freq=1)]"
   ]
  },
  {
   "cell_type": "code",
   "execution_count": 13,
   "id": "54ad1717",
   "metadata": {},
   "outputs": [
    {
     "name": "stdout",
     "output_type": "stream",
     "text": [
      "Epoch 1/10\n",
      "   1/1500 [..............................] - ETA: 0s - loss: 2.3237 - accuracy: 0.1875WARNING:tensorflow:From C:\\Users\\USER\\anaconda3\\envs\\dsi24\\lib\\site-packages\\tensorflow\\python\\ops\\summary_ops_v2.py:1277: stop (from tensorflow.python.eager.profiler) is deprecated and will be removed after 2020-07-01.\n",
      "Instructions for updating:\n",
      "use `tf.profiler.experimental.stop` instead.\n",
      "   2/1500 [..............................] - ETA: 1:52 - loss: 2.2908 - accuracy: 0.1875WARNING:tensorflow:Callbacks method `on_train_batch_end` is slow compared to the batch time (batch time: 0.0000s vs `on_train_batch_end` time: 0.1450s). Check your callbacks.\n",
      "1500/1500 [==============================] - 10s 7ms/step - loss: 0.6968 - accuracy: 0.8211 - val_loss: 0.3661 - val_accuracy: 0.9019\n",
      "Epoch 2/10\n",
      "1500/1500 [==============================] - 7s 5ms/step - loss: 0.3721 - accuracy: 0.8965 - val_loss: 0.2972 - val_accuracy: 0.9186\n",
      "Epoch 3/10\n",
      "1500/1500 [==============================] - 7s 5ms/step - loss: 0.3160 - accuracy: 0.9103 - val_loss: 0.2636 - val_accuracy: 0.9262\n",
      "Epoch 4/10\n",
      "1500/1500 [==============================] - 7s 5ms/step - loss: 0.2792 - accuracy: 0.9214 - val_loss: 0.2395 - val_accuracy: 0.9330\n",
      "Epoch 5/10\n",
      "1500/1500 [==============================] - 7s 5ms/step - loss: 0.2543 - accuracy: 0.9283 - val_loss: 0.2191 - val_accuracy: 0.9391\n",
      "Epoch 6/10\n",
      "1500/1500 [==============================] - 7s 5ms/step - loss: 0.2336 - accuracy: 0.9335 - val_loss: 0.2043 - val_accuracy: 0.9445\n",
      "Epoch 7/10\n",
      "1500/1500 [==============================] - 7s 5ms/step - loss: 0.2160 - accuracy: 0.9390 - val_loss: 0.1918 - val_accuracy: 0.9472\n",
      "Epoch 8/10\n",
      "1500/1500 [==============================] - 7s 5ms/step - loss: 0.2003 - accuracy: 0.9439 - val_loss: 0.1803 - val_accuracy: 0.9517\n",
      "Epoch 9/10\n",
      "1500/1500 [==============================] - 7s 5ms/step - loss: 0.1881 - accuracy: 0.9471 - val_loss: 0.1708 - val_accuracy: 0.9536\n",
      "Epoch 10/10\n",
      "1500/1500 [==============================] - 7s 5ms/step - loss: 0.1788 - accuracy: 0.9497 - val_loss: 0.1620 - val_accuracy: 0.9566\n"
     ]
    }
   ],
   "source": [
    "history = model.fit(X_train, y_train,\n",
    "                  epochs=10,\n",
    "                  validation_split=0.2,\n",
    "                  callbacks=callbacks)"
   ]
  },
  {
   "cell_type": "code",
   "execution_count": 14,
   "id": "2f837926",
   "metadata": {},
   "outputs": [
    {
     "data": {
      "image/png": "[encoded data removed]",
      "text/plain": [
       "<Figure size 720x504 with 1 Axes>"
      ]
     },
     "metadata": {
      "needs_background": "light"
     },
     "output_type": "display_data"
    }
   ],
   "source": [
    "# Check out our train loss and test loss over epochs.\n",
    "train_loss = history.history['loss']\n",
    "test_loss = history.history['val_loss']\n",
    "epoch_labels = history.epoch\n",
    "\n",
    "# Set figure size.\n",
    "plt.figure(figsize=(10, 7))\n",
    "\n",
    "# Generate line plot of training, testing loss over epochs.\n",
    "plt.plot(train_loss, label='Training Loss', color='#185fad')\n",
    "plt.plot(test_loss, label='Testing Loss', color='orange')\n",
    "\n",
    "# Set title\n",
    "plt.title('Training and Testing Loss by Epoch', fontsize=15)\n",
    "plt.xlabel('Epoch', fontsize=12)\n",
    "plt.ylabel('Sparse Categorical Crossentropy', fontsize=12)\n",
    "plt.xticks(epoch_labels, epoch_labels)    # ticks, labels\n",
    "\n",
    "plt.legend(fontsize=18);"
   ]
  },
  {
   "cell_type": "code",
   "execution_count": 15,
   "id": "a961126c",
   "metadata": {},
   "outputs": [
    {
     "name": "stdout",
     "output_type": "stream",
     "text": [
      "313/313 [==============================] - 1s 4ms/step - loss: 0.1598 - accuracy: 0.9543\n",
      "loss: 0.15983706712722778\n",
      "accuracy: 0.9542999863624573\n"
     ]
    }
   ],
   "source": [
    "# Evaluate model on test data.\n",
    "score = model.evaluate(X_test,\n",
    "                       y_test,\n",
    "                       verbose=1)\n",
    "\n",
    "labels = model.metrics_names\n",
    "\n",
    "# Show model performance.\n",
    "print(f'{labels[0]}: {score[0]}')\n",
    "print(f'{labels[1]}: {score[1]}')"
   ]
  },
  {
   "cell_type": "markdown",
   "id": "d16f78e4",
   "metadata": {},
   "source": [
    "## TensorBoard"
   ]
  },
  {
   "cell_type": "markdown",
   "id": "2b6f6998",
   "metadata": {},
   "source": [
    "Launch TensorBoard"
   ]
  },
  {
   "cell_type": "code",
   "execution_count": 16,
   "id": "3d150654",
   "metadata": {},
   "outputs": [
    {
     "data": {
      "text/plain": [
       "Reusing TensorBoard on port 6006 (pid 12840), started 10:53:21 ago. (Use '!kill 12840' to kill it.)"
      ]
     },
     "metadata": {},
     "output_type": "display_data"
    },
    {
     "data": {
      "text/html": [
       "\n",
       "      <iframe id=\"tensorboard-frame-d606a8260f68a69a\" width=\"100%\" height=\"800\" frameborder=\"0\">\n",
       "      </iframe>\n",
       "      <script>\n",
       "        (function() {\n",
       "          const frame = document.getElementById(\"tensorboard-frame-d606a8260f68a69a\");\n",
       "          const url = new URL(\"/\", window.location);\n",
       "          const port = 6006;\n",
       "          if (port) {\n",
       "            url.port = port;\n",
       "          }\n",
       "          frame.src = url;\n",
       "        })();\n",
       "      </script>\n",
       "    "
      ],
      "text/plain": [
       "<IPython.core.display.HTML object>"
      ]
     },
     "metadata": {},
     "output_type": "display_data"
    }
   ],
   "source": [
    "%tensorboard --logdir={log_folder}"
   ]
  },
  {
   "cell_type": "code",
   "execution_count": 17,
   "id": "e3273d2d",
   "metadata": {},
   "outputs": [],
   "source": [
    "# launch in browser\n",
    "# http://localhost:6006"
   ]
  },
  {
   "cell_type": "markdown",
   "id": "467126e5",
   "metadata": {},
   "source": [
    "**Image summary in TensorBoard**"
   ]
  },
  {
   "cell_type": "code",
   "execution_count": 18,
   "id": "c95c89ad",
   "metadata": {},
   "outputs": [],
   "source": [
    "logdir = \"logs/train_data/\"\n",
    "file_writer = summary.create_file_writer(logdir)"
   ]
  },
  {
   "cell_type": "code",
   "execution_count": 19,
   "id": "37d2dc6d",
   "metadata": {},
   "outputs": [],
   "source": [
    "# visualize it in TensorBoard under '20 Digits' in the Images tab\n",
    "with file_writer.as_default():\n",
    "    # (28x28x1) images are grayscale\n",
    "    # index 20:30 \n",
    "    images = np.reshape(X_train[10:30], (-1, 28, 28, 1))\n",
    "    summary.image(\"20 Digits\", images, max_outputs=25, step=0)"
   ]
  },
  {
   "cell_type": "code",
   "execution_count": 20,
   "id": "e03b7245",
   "metadata": {},
   "outputs": [],
   "source": [
    "class_names = ['Zero','One','Two','Three','Four','Five','Six','Seven','Eight','Nine']\n",
    "logdir = \"logs/plots/\"\n",
    "file_writer = summary.create_file_writer(logdir)"
   ]
  },
  {
   "cell_type": "code",
   "execution_count": 21,
   "id": "9c813ef8",
   "metadata": {},
   "outputs": [],
   "source": [
    "def image_grid():  \n",
    "    figure = plt.figure(figsize=(12,8))\n",
    "\n",
    "    for i in range(36):    \n",
    "        plt.subplot(6, 6, i + 1)\n",
    "        plt.xlabel(class_names[y_train[i]])\n",
    "        plt.xticks([])\n",
    "        plt.yticks([])\n",
    "        plt.grid(False)\n",
    "        plt.imshow(X_train[i], cmap=plt.cm.coolwarm)\n",
    "\n",
    "    return figure"
   ]
  },
  {
   "cell_type": "code",
   "execution_count": 22,
   "id": "a8429fc5",
   "metadata": {},
   "outputs": [
    {
     "data": {
      "image/png": "[encoded data removed]",
      "text/plain": [
       "<Figure size 864x576 with 36 Axes>"
      ]
     },
     "metadata": {},
     "output_type": "display_data"
    }
   ],
   "source": [
    "# plot images here\n",
    "figure = image_grid()"
   ]
  },
  {
   "cell_type": "code",
   "execution_count": 23,
   "id": "f22b1830",
   "metadata": {},
   "outputs": [],
   "source": [
    "# visualize it in TensorBoard\n",
    "def plot_to_image(figure):    \n",
    "    buf = io.BytesIO()\n",
    "    plt.savefig(buf, format='png')\n",
    "    plt.close(figure)\n",
    "    buf.seek(0)\n",
    "\n",
    "    digit = decode_png(buf.getvalue(), channels=4)    # channels=4 output an RGBA image\n",
    "    digit = expand_dims(digit, axis=0)                # [1,28,28,1]\n",
    "\n",
    "    return digit"
   ]
  },
  {
   "cell_type": "code",
   "execution_count": 24,
   "id": "75c972e1",
   "metadata": {},
   "outputs": [
    {
     "data": {
      "text/plain": [
       "<Figure size 432x288 with 0 Axes>"
      ]
     },
     "metadata": {},
     "output_type": "display_data"
    }
   ],
   "source": [
    "# visualize it in TensorBoard under 'MNIST Digits' in the Images tab\n",
    "with file_writer.as_default():    \n",
    "    summary.image(\"MNIST Digits\", plot_to_image(figure), step=0);"
   ]
  },
  {
   "cell_type": "code",
   "execution_count": 25,
   "id": "1e21aebe",
   "metadata": {},
   "outputs": [
    {
     "data": {
      "text/plain": [
       "Reusing TensorBoard on port 6006 (pid 18600), started 4:19:29 ago. (Use '!kill 18600' to kill it.)"
      ]
     },
     "metadata": {},
     "output_type": "display_data"
    },
    {
     "data": {
      "text/html": [
       "\n",
       "      <iframe id=\"tensorboard-frame-612d8e497617e29a\" width=\"100%\" height=\"800\" frameborder=\"0\">\n",
       "      </iframe>\n",
       "      <script>\n",
       "        (function() {\n",
       "          const frame = document.getElementById(\"tensorboard-frame-612d8e497617e29a\");\n",
       "          const url = new URL(\"/\", window.location);\n",
       "          const port = 6006;\n",
       "          if (port) {\n",
       "            url.port = port;\n",
       "          }\n",
       "          frame.src = url;\n",
       "        })();\n",
       "      </script>\n",
       "    "
      ],
      "text/plain": [
       "<IPython.core.display.HTML object>"
      ]
     },
     "metadata": {},
     "output_type": "display_data"
    }
   ],
   "source": [
    "%reload_ext tensorboard\n",
    "%tensorboard --logdir logs/plots"
   ]
  },
  {
   "cell_type": "markdown",
   "id": "773c6999",
   "metadata": {},
   "source": [
    "**Confusion matrix in TensorBoard**"
   ]
  },
  {
   "cell_type": "code",
   "execution_count": 26,
   "id": "d94e778b",
   "metadata": {},
   "outputs": [],
   "source": [
    "def plot_confusion_matrix(cm, class_names): \n",
    "    figure = plt.figure(figsize=(8, 8)) \n",
    "    plt.imshow(cm, interpolation='nearest', cmap=plt.cm.Accent) \n",
    "    plt.title(\"Confusion matrix\") \n",
    "    plt.colorbar() \n",
    "    tick_marks = np.arange(len(class_names)) \n",
    "    plt.xticks(tick_marks, class_names, rotation=45) \n",
    "    plt.yticks(tick_marks, class_names)\n",
    "\n",
    "    cm = np.around(cm.astype('float') / cm.sum(axis=1)[:, np.newaxis], decimals=2)  \n",
    "    threshold = cm.max() / 2. \n",
    "\n",
    "    for i, j in itertools.product(range(cm.shape[0]), range(cm.shape[1])):   \n",
    "        color = \"white\" if cm[i, j] > threshold else \"black\"   \n",
    "        plt.text(j, i, cm[i, j], horizontalalignment=\"center\", color=color)  \n",
    "    \n",
    "    plt.tight_layout() \n",
    "    plt.ylabel('True label') \n",
    "    plt.xlabel('Predicted label') \n",
    "\n",
    "    return figure"
   ]
  },
  {
   "cell_type": "code",
   "execution_count": 27,
   "id": "b09b98fc",
   "metadata": {},
   "outputs": [],
   "source": [
    "logdir = \"logs\"\n",
    "file_writer_cm = summary.create_file_writer(logdir)"
   ]
  },
  {
   "cell_type": "code",
   "execution_count": 28,
   "id": "80575c6d",
   "metadata": {},
   "outputs": [],
   "source": [
    "def log_confusion_matrix(epoch, logs):\n",
    "    predictions = model.predict(X_test)\n",
    "    predictions = np.argmax(predictions, axis=1)\n",
    "\n",
    "    cm = confusion_matrix(y_test, predictions)\n",
    "    figure = plot_confusion_matrix(cm, class_names=class_names)\n",
    "    cm_image = plot_to_image(figure)\n",
    "    \n",
    "    with file_writer_cm.as_default():\n",
    "        summary.image(\"Confusion Matrix\", cm_image, step=epoch)"
   ]
  },
  {
   "cell_type": "code",
   "execution_count": 29,
   "id": "33a86b17",
   "metadata": {},
   "outputs": [
    {
     "name": "stdout",
     "output_type": "stream",
     "text": [
      "Epoch 1/10\n",
      "   2/1500 [..............................] - ETA: 4:37 - loss: 0.1465 - accuracy: 0.9688WARNING:tensorflow:Callbacks method `on_train_batch_end` is slow compared to the batch time (batch time: 0.0045s vs `on_train_batch_end` time: 0.3653s). Check your callbacks.\n",
      "1500/1500 [==============================] - 13s 9ms/step - loss: 0.1677 - accuracy: 0.9532 - val_loss: 0.1555 - val_accuracy: 0.9575\n",
      "Epoch 2/10\n",
      "1500/1500 [==============================] - 11s 7ms/step - loss: 0.1589 - accuracy: 0.9547 - val_loss: 0.1500 - val_accuracy: 0.9589\n",
      "Epoch 3/10\n",
      "1500/1500 [==============================] - 9s 6ms/step - loss: 0.1521 - accuracy: 0.9575 - val_loss: 0.1439 - val_accuracy: 0.9603\n",
      "Epoch 4/10\n",
      "1500/1500 [==============================] - 9s 6ms/step - loss: 0.1447 - accuracy: 0.9602 - val_loss: 0.1393 - val_accuracy: 0.9610\n",
      "Epoch 5/10\n",
      "1500/1500 [==============================] - 9s 6ms/step - loss: 0.1391 - accuracy: 0.9609 - val_loss: 0.1348 - val_accuracy: 0.9623\n",
      "Epoch 6/10\n",
      "1500/1500 [==============================] - 9s 6ms/step - loss: 0.1326 - accuracy: 0.9622 - val_loss: 0.1317 - val_accuracy: 0.9632\n",
      "Epoch 7/10\n",
      "1500/1500 [==============================] - 9s 6ms/step - loss: 0.1263 - accuracy: 0.9649 - val_loss: 0.1274 - val_accuracy: 0.9643\n",
      "Epoch 8/10\n",
      "1500/1500 [==============================] - 9s 6ms/step - loss: 0.1225 - accuracy: 0.9659 - val_loss: 0.1242 - val_accuracy: 0.9652\n",
      "Epoch 9/10\n",
      "1500/1500 [==============================] - 9s 6ms/step - loss: 0.1176 - accuracy: 0.9676 - val_loss: 0.1207 - val_accuracy: 0.9664\n",
      "Epoch 10/10\n",
      "1500/1500 [==============================] - 9s 6ms/step - loss: 0.1136 - accuracy: 0.9686 - val_loss: 0.1178 - val_accuracy: 0.9666\n"
     ]
    },
    {
     "data": {
      "text/plain": [
       "<tensorflow.python.keras.callbacks.History at 0x279430e8910>"
      ]
     },
     "execution_count": 29,
     "metadata": {},
     "output_type": "execute_result"
    }
   ],
   "source": [
    "callbacks = [\n",
    "   TensorBoard(log_dir=log_folder, \n",
    "               histogram_freq=1, \n",
    "               write_graph=True,\n",
    "               write_images=True,\n",
    "               update_freq='epoch',\n",
    "               profile_batch=2,\n",
    "               embeddings_freq=1),\n",
    "   keras.callbacks.LambdaCallback(on_epoch_end=log_confusion_matrix)\n",
    "]\n",
    "\n",
    "model.fit(X_train, y_train,\n",
    "          epochs=10,\n",
    "          validation_split=0.2,\n",
    "          callbacks=callbacks)"
   ]
  },
  {
   "cell_type": "code",
   "execution_count": 30,
   "id": "003de63c",
   "metadata": {},
   "outputs": [
    {
     "data": {
      "text/plain": [
       "ERROR: Timed out waiting for TensorBoard to start. It may still be running as pid 14300."
      ]
     },
     "metadata": {},
     "output_type": "display_data"
    }
   ],
   "source": [
    "# confusion matrix is in the Images tab\n",
    "%reload_ext tensorboard\n",
    "%tensorboard --logdir logs"
   ]
  },
  {
   "cell_type": "markdown",
   "id": "f4987935",
   "metadata": {},
   "source": [
    "**Hyperparameter tuning in TensorBoard**"
   ]
  },
  {
   "cell_type": "markdown",
   "id": "caaff4c8",
   "metadata": {},
   "source": [
    "Using to visualize parameter optimization"
   ]
  },
  {
   "cell_type": "code",
   "execution_count": 31,
   "id": "60c723bd",
   "metadata": {},
   "outputs": [],
   "source": [
    "from tensorboard.plugins.hparams import api as hp\n",
    "logdir = \"logs\""
   ]
  },
  {
   "cell_type": "code",
   "execution_count": 32,
   "id": "e103efc0",
   "metadata": {},
   "outputs": [],
   "source": [
    "# define parameters to tune \n",
    "HP_NUM_UNITS = hp.HParam('num_units', hp.Discrete([300, 200,512]))\n",
    "HP_DROPOUT = hp.HParam('dropout', hp.RealInterval(0.1,0.5))\n",
    "HP_OPTIMIZER = hp.HParam('optimizer', hp.Discrete(['adam', 'sgd', 'rmsprop']))"
   ]
  },
  {
   "cell_type": "code",
   "execution_count": 33,
   "id": "40d39b50",
   "metadata": {},
   "outputs": [],
   "source": [
    "METRIC_ACCURACY = 'accuracy'\n",
    "\n",
    "with summary.create_file_writer('logs/hparam_tuning').as_default():\n",
    "    hp.hparams_config(\n",
    "        hparams=[HP_NUM_UNITS, HP_DROPOUT, HP_OPTIMIZER],\n",
    "        metrics=[hp.Metric(METRIC_ACCURACY, display_name='Accuracy')],)"
   ]
  },
  {
   "cell_type": "code",
   "execution_count": 34,
   "id": "eae403df",
   "metadata": {},
   "outputs": [],
   "source": [
    "def create_model(hparams):\n",
    "    '''building feedforward model using hyperparameters'''\n",
    "    model = Sequential([\n",
    "        Flatten(input_shape=(28, 28)),\n",
    "        Dense(hparams[HP_NUM_UNITS],  activation='relu'),\n",
    "        Dropout(hparams[HP_DROPOUT]),\n",
    "        Dense(10, activation='softmax')])\n",
    "\n",
    "    model.compile(optimizer=hparams[HP_OPTIMIZER],\n",
    "                  loss='sparse_categorical_crossentropy',  \n",
    "                  metrics=['accuracy'])\n",
    "\n",
    "    model.fit(X_train, y_train, epochs=5)\n",
    "    loss, accuracy = model.evaluate(X_test, y_test)\n",
    "    \n",
    "    return accuracy"
   ]
  },
  {
   "cell_type": "code",
   "execution_count": 35,
   "id": "af00043c",
   "metadata": {},
   "outputs": [],
   "source": [
    "def experiment(experiment_dir, hparams):\n",
    "    '''log accuracy when tuning parameters'''\n",
    "    with summary.create_file_writer(experiment_dir).as_default():\n",
    "        hp.hparams(hparams)\n",
    "        accuracy = create_model(hparams)\n",
    "        tf.summary.scalar(METRIC_ACCURACY, accuracy, step=1)"
   ]
  },
  {
   "cell_type": "code",
   "execution_count": 36,
   "id": "48188187",
   "metadata": {},
   "outputs": [
    {
     "name": "stdout",
     "output_type": "stream",
     "text": [
      "Starting Experiment: Experiment 0\n",
      "{'num_units': 200, 'dropout': 0.1, 'optimizer': 'adam'}\n",
      "Epoch 1/5\n",
      "1875/1875 [==============================] - 5s 3ms/step - loss: 0.2487 - accuracy: 0.9282\n",
      "Epoch 2/5\n",
      "1875/1875 [==============================] - 4s 2ms/step - loss: 0.1097 - accuracy: 0.9675\n",
      "Epoch 3/5\n",
      "1875/1875 [==============================] - 4s 2ms/step - loss: 0.0777 - accuracy: 0.9765\n",
      "Epoch 4/5\n",
      "1875/1875 [==============================] - 4s 2ms/step - loss: 0.0592 - accuracy: 0.9819\n",
      "Epoch 5/5\n",
      "1875/1875 [==============================] - 4s 2ms/step - loss: 0.0477 - accuracy: 0.9850\n",
      "313/313 [==============================] - 0s 1ms/step - loss: 0.0716 - accuracy: 0.9757\n",
      "Starting Experiment: Experiment 1\n",
      "{'num_units': 200, 'dropout': 0.1, 'optimizer': 'rmsprop'}\n",
      "Epoch 1/5\n",
      "1875/1875 [==============================] - 5s 3ms/step - loss: 0.2438 - accuracy: 0.9294\n",
      "Epoch 2/5\n",
      "1875/1875 [==============================] - 5s 2ms/step - loss: 0.1177 - accuracy: 0.9658\n",
      "Epoch 3/5\n",
      "1875/1875 [==============================] - 4s 2ms/step - loss: 0.0881 - accuracy: 0.9748\n",
      "Epoch 4/5\n",
      "1875/1875 [==============================] - 5s 3ms/step - loss: 0.0760 - accuracy: 0.9783: 0s - loss: 0.0\n",
      "Epoch 5/5\n",
      "1875/1875 [==============================] - 4s 2ms/step - loss: 0.0657 - accuracy: 0.9812\n",
      "313/313 [==============================] - 0s 1ms/step - loss: 0.0913 - accuracy: 0.9777\n",
      "Starting Experiment: Experiment 2\n",
      "{'num_units': 200, 'dropout': 0.1, 'optimizer': 'sgd'}\n",
      "Epoch 1/5\n",
      "1875/1875 [==============================] - 3s 2ms/step - loss: 0.6475 - accuracy: 0.8339\n",
      "Epoch 2/5\n",
      "1875/1875 [==============================] - 4s 2ms/step - loss: 0.3467 - accuracy: 0.9014\n",
      "Epoch 3/5\n",
      "1875/1875 [==============================] - 3s 2ms/step - loss: 0.2941 - accuracy: 0.9172\n",
      "Epoch 4/5\n",
      "1875/1875 [==============================] - 3s 2ms/step - loss: 0.2608 - accuracy: 0.9259\n",
      "Epoch 5/5\n",
      "1875/1875 [==============================] - 3s 2ms/step - loss: 0.2376 - accuracy: 0.9325\n",
      "313/313 [==============================] - 0s 1ms/step - loss: 0.2082 - accuracy: 0.9410\n",
      "Starting Experiment: Experiment 3\n",
      "{'num_units': 200, 'dropout': 0.5, 'optimizer': 'adam'}\n",
      "Epoch 1/5\n",
      "1875/1875 [==============================] - 4s 2ms/step - loss: 0.3407 - accuracy: 0.8986\n",
      "Epoch 2/5\n",
      "1875/1875 [==============================] - 3s 2ms/step - loss: 0.1831 - accuracy: 0.9452\n",
      "Epoch 3/5\n",
      "1875/1875 [==============================] - 3s 2ms/step - loss: 0.1470 - accuracy: 0.9559\n",
      "Epoch 4/5\n",
      "1875/1875 [==============================] - 3s 2ms/step - loss: 0.1306 - accuracy: 0.9602\n",
      "Epoch 5/5\n",
      "1875/1875 [==============================] - 3s 2ms/step - loss: 0.1162 - accuracy: 0.9646\n",
      "313/313 [==============================] - 0s 1ms/step - loss: 0.0778 - accuracy: 0.9769\n",
      "Starting Experiment: Experiment 4\n",
      "{'num_units': 200, 'dropout': 0.5, 'optimizer': 'rmsprop'}\n",
      "Epoch 1/5\n",
      "1875/1875 [==============================] - 4s 2ms/step - loss: 0.3392 - accuracy: 0.9004\n",
      "Epoch 2/5\n",
      "1875/1875 [==============================] - 4s 2ms/step - loss: 0.2049 - accuracy: 0.9427\n",
      "Epoch 3/5\n",
      "1875/1875 [==============================] - 4s 2ms/step - loss: 0.1813 - accuracy: 0.9506\n",
      "Epoch 4/5\n",
      "1875/1875 [==============================] - 4s 2ms/step - loss: 0.1671 - accuracy: 0.9566\n",
      "Epoch 5/5\n",
      "1875/1875 [==============================] - 4s 2ms/step - loss: 0.1579 - accuracy: 0.9607\n",
      "313/313 [==============================] - 0s 1ms/step - loss: 0.1178 - accuracy: 0.9722\n",
      "Starting Experiment: Experiment 5\n",
      "{'num_units': 200, 'dropout': 0.5, 'optimizer': 'sgd'}\n",
      "Epoch 1/5\n",
      "1875/1875 [==============================] - 3s 2ms/step - loss: 0.7869 - accuracy: 0.7705\n",
      "Epoch 2/5\n",
      "1875/1875 [==============================] - 3s 2ms/step - loss: 0.4242 - accuracy: 0.8794\n",
      "Epoch 3/5\n",
      "1875/1875 [==============================] - 3s 2ms/step - loss: 0.3535 - accuracy: 0.8975\n",
      "Epoch 4/5\n",
      "1875/1875 [==============================] - 3s 2ms/step - loss: 0.3136 - accuracy: 0.9101\n",
      "Epoch 5/5\n",
      "1875/1875 [==============================] - 3s 2ms/step - loss: 0.2856 - accuracy: 0.9179\n",
      "313/313 [==============================] - 0s 1ms/step - loss: 0.2081 - accuracy: 0.9412\n",
      "Starting Experiment: Experiment 6\n",
      "{'num_units': 300, 'dropout': 0.1, 'optimizer': 'adam'}\n",
      "Epoch 1/5\n",
      "   1/1875 [..............................] - ETA: 0s - loss: 2.2807 - accuracy: 0.1562WARNING:tensorflow:Callbacks method `on_train_batch_end` is slow compared to the batch time (batch time: 0.0000s vs `on_train_batch_end` time: 0.0156s). Check your callbacks.\n",
      "1875/1875 [==============================] - 4s 2ms/step - loss: 0.2279 - accuracy: 0.9329\n",
      "Epoch 2/5\n",
      "1875/1875 [==============================] - 4s 2ms/step - loss: 0.0966 - accuracy: 0.9704\n",
      "Epoch 3/5\n",
      "1875/1875 [==============================] - 4s 2ms/step - loss: 0.0673 - accuracy: 0.9791\n",
      "Epoch 4/5\n",
      "1875/1875 [==============================] - 4s 2ms/step - loss: 0.0502 - accuracy: 0.9836\n",
      "Epoch 5/5\n",
      "1875/1875 [==============================] - 4s 2ms/step - loss: 0.0420 - accuracy: 0.9868\n",
      "313/313 [==============================] - 0s 1ms/step - loss: 0.0620 - accuracy: 0.9798\n",
      "Starting Experiment: Experiment 7\n",
      "{'num_units': 300, 'dropout': 0.1, 'optimizer': 'rmsprop'}\n",
      "Epoch 1/5\n",
      "1875/1875 [==============================] - 5s 3ms/step - loss: 0.2281 - accuracy: 0.9330\n",
      "Epoch 2/5\n",
      "1875/1875 [==============================] - 6s 3ms/step - loss: 0.1095 - accuracy: 0.9685\n",
      "Epoch 3/5\n",
      "1875/1875 [==============================] - 6s 3ms/step - loss: 0.0839 - accuracy: 0.9761\n",
      "Epoch 4/5\n",
      "1875/1875 [==============================] - 7s 4ms/step - loss: 0.0684 - accuracy: 0.9815\n",
      "Epoch 5/5\n",
      "1875/1875 [==============================] - 9s 5ms/step - loss: 0.0606 - accuracy: 0.9832\n",
      "313/313 [==============================] - 0s 1ms/step - loss: 0.0882 - accuracy: 0.9784\n",
      "Starting Experiment: Experiment 8\n",
      "{'num_units': 300, 'dropout': 0.1, 'optimizer': 'sgd'}\n",
      "Epoch 1/5\n",
      "1875/1875 [==============================] - 4s 2ms/step - loss: 0.6438 - accuracy: 0.8349\n",
      "Epoch 2/5\n",
      "1875/1875 [==============================] - 4s 2ms/step - loss: 0.3434 - accuracy: 0.9033\n",
      "Epoch 3/5\n",
      "1875/1875 [==============================] - 4s 2ms/step - loss: 0.2905 - accuracy: 0.9175\n",
      "Epoch 4/5\n",
      "1875/1875 [==============================] - 4s 2ms/step - loss: 0.2566 - accuracy: 0.9279\n",
      "Epoch 5/5\n",
      "1875/1875 [==============================] - 4s 2ms/step - loss: 0.2313 - accuracy: 0.9357\n",
      "313/313 [==============================] - 0s 1ms/step - loss: 0.2027 - accuracy: 0.9434\n",
      "Starting Experiment: Experiment 9\n",
      "{'num_units': 300, 'dropout': 0.5, 'optimizer': 'adam'}\n",
      "Epoch 1/5\n",
      "1875/1875 [==============================] - 4s 2ms/step - loss: 0.3028 - accuracy: 0.9091\n",
      "Epoch 2/5\n",
      "1875/1875 [==============================] - 4s 2ms/step - loss: 0.1582 - accuracy: 0.9519\n",
      "Epoch 3/5\n",
      "1875/1875 [==============================] - 4s 2ms/step - loss: 0.1279 - accuracy: 0.9609\n",
      "Epoch 4/5\n",
      "1875/1875 [==============================] - 4s 2ms/step - loss: 0.1088 - accuracy: 0.9669\n",
      "Epoch 5/5\n",
      "1875/1875 [==============================] - 5s 3ms/step - loss: 0.0941 - accuracy: 0.9702\n",
      "313/313 [==============================] - 0s 1ms/step - loss: 0.0699 - accuracy: 0.9780\n",
      "Starting Experiment: Experiment 10\n",
      "{'num_units': 300, 'dropout': 0.5, 'optimizer': 'rmsprop'}\n",
      "Epoch 1/5\n",
      "1875/1875 [==============================] - 9s 5ms/step - loss: 0.3115 - accuracy: 0.9076\n",
      "Epoch 2/5\n",
      "1875/1875 [==============================] - 10s 5ms/step - loss: 0.1790 - accuracy: 0.9500\n",
      "Epoch 3/5\n",
      "1875/1875 [==============================] - 11s 6ms/step - loss: 0.1540 - accuracy: 0.9586\n",
      "Epoch 4/5\n",
      "1875/1875 [==============================] - 9s 5ms/step - loss: 0.1421 - accuracy: 0.9640\n",
      "Epoch 5/5\n",
      "1875/1875 [==============================] - 8s 4ms/step - loss: 0.1363 - accuracy: 0.9668: 0s - loss: 0.1361 - \n",
      "313/313 [==============================] - 1s 2ms/step - loss: 0.1199 - accuracy: 0.9740\n",
      "Starting Experiment: Experiment 11\n",
      "{'num_units': 300, 'dropout': 0.5, 'optimizer': 'sgd'}\n",
      "Epoch 1/5\n",
      "1875/1875 [==============================] - 6s 3ms/step - loss: 0.7525 - accuracy: 0.7832\n",
      "Epoch 2/5\n",
      "1875/1875 [==============================] - 5s 2ms/step - loss: 0.4086 - accuracy: 0.8818\n",
      "Epoch 3/5\n"
     ]
    },
    {
     "name": "stdout",
     "output_type": "stream",
     "text": [
      "1875/1875 [==============================] - 4s 2ms/step - loss: 0.3427 - accuracy: 0.9015\n",
      "Epoch 4/5\n",
      "1875/1875 [==============================] - 4s 2ms/step - loss: 0.3019 - accuracy: 0.9145\n",
      "Epoch 5/5\n",
      "1875/1875 [==============================] - 4s 2ms/step - loss: 0.2733 - accuracy: 0.9223\n",
      "313/313 [==============================] - 0s 1ms/step - loss: 0.2043 - accuracy: 0.9412\n",
      "Starting Experiment: Experiment 12\n",
      "{'num_units': 512, 'dropout': 0.1, 'optimizer': 'adam'}\n",
      "Epoch 1/5\n",
      "1875/1875 [==============================] - 8s 4ms/step - loss: 0.2081 - accuracy: 0.9395\n",
      "Epoch 2/5\n",
      "1875/1875 [==============================] - 9s 5ms/step - loss: 0.0883 - accuracy: 0.9724\n",
      "Epoch 3/5\n",
      "1875/1875 [==============================] - 9s 5ms/step - loss: 0.0614 - accuracy: 0.9808\n",
      "Epoch 4/5\n",
      "1875/1875 [==============================] - 8s 4ms/step - loss: 0.0463 - accuracy: 0.9850\n",
      "Epoch 5/5\n",
      "1875/1875 [==============================] - 9s 5ms/step - loss: 0.0354 - accuracy: 0.9883\n",
      "313/313 [==============================] - 1s 2ms/step - loss: 0.0799 - accuracy: 0.9766\n",
      "Starting Experiment: Experiment 13\n",
      "{'num_units': 512, 'dropout': 0.1, 'optimizer': 'rmsprop'}\n",
      "Epoch 1/5\n",
      "1875/1875 [==============================] - 15s 8ms/step - loss: 0.2122 - accuracy: 0.9388\n",
      "Epoch 2/5\n",
      "1875/1875 [==============================] - 15s 8ms/step - loss: 0.0977 - accuracy: 0.9724\n",
      "Epoch 3/5\n",
      "1875/1875 [==============================] - 15s 8ms/step - loss: 0.0746 - accuracy: 0.9792\n",
      "Epoch 4/5\n",
      "1875/1875 [==============================] - 15s 8ms/step - loss: 0.0621 - accuracy: 0.9830\n",
      "Epoch 5/5\n",
      "1875/1875 [==============================] - 15s 8ms/step - loss: 0.0512 - accuracy: 0.9863\n",
      "313/313 [==============================] - 1s 2ms/step - loss: 0.0782 - accuracy: 0.9812\n",
      "Starting Experiment: Experiment 14\n",
      "{'num_units': 512, 'dropout': 0.1, 'optimizer': 'sgd'}\n",
      "Epoch 1/5\n",
      "1875/1875 [==============================] - 8s 4ms/step - loss: 0.6023 - accuracy: 0.8517\n",
      "Epoch 2/5\n",
      "1875/1875 [==============================] - 7s 4ms/step - loss: 0.3306 - accuracy: 0.9075\n",
      "Epoch 3/5\n",
      "1875/1875 [==============================] - 7s 4ms/step - loss: 0.2817 - accuracy: 0.9218\n",
      "Epoch 4/5\n",
      "1875/1875 [==============================] - 7s 4ms/step - loss: 0.2503 - accuracy: 0.9298\n",
      "Epoch 5/5\n",
      "1875/1875 [==============================] - 7s 4ms/step - loss: 0.2254 - accuracy: 0.9369\n",
      "313/313 [==============================] - 1s 3ms/step - loss: 0.2017 - accuracy: 0.9430\n",
      "Starting Experiment: Experiment 15\n",
      "{'num_units': 512, 'dropout': 0.5, 'optimizer': 'adam'}\n",
      "Epoch 1/5\n",
      "   1/1875 [..............................] - ETA: 0s - loss: 2.5183 - accuracy: 0.0938WARNING:tensorflow:Callbacks method `on_train_batch_end` is slow compared to the batch time (batch time: 0.0000s vs `on_train_batch_end` time: 0.0103s). Check your callbacks.\n",
      "1875/1875 [==============================] - 10s 5ms/step - loss: 0.2686 - accuracy: 0.9191\n",
      "Epoch 2/5\n",
      "1875/1875 [==============================] - 9s 5ms/step - loss: 0.1377 - accuracy: 0.9583\n",
      "Epoch 3/5\n",
      "1875/1875 [==============================] - 9s 5ms/step - loss: 0.1095 - accuracy: 0.9663\n",
      "Epoch 4/5\n",
      "1875/1875 [==============================] - 9s 5ms/step - loss: 0.0945 - accuracy: 0.9703\n",
      "Epoch 5/5\n",
      "1875/1875 [==============================] - 9s 5ms/step - loss: 0.0816 - accuracy: 0.9746: 0s - loss: 0.0816 - accuracy\n",
      "313/313 [==============================] - 1s 2ms/step - loss: 0.0688 - accuracy: 0.9783\n",
      "Starting Experiment: Experiment 16\n",
      "{'num_units': 512, 'dropout': 0.5, 'optimizer': 'rmsprop'}\n",
      "Epoch 1/5\n",
      "1875/1875 [==============================] - 16s 8ms/step - loss: 0.2766 - accuracy: 0.9182\n",
      "Epoch 2/5\n",
      "1875/1875 [==============================] - 16s 9ms/step - loss: 0.1583 - accuracy: 0.9563\n",
      "Epoch 3/5\n",
      "1875/1875 [==============================] - 15s 8ms/step - loss: 0.1364 - accuracy: 0.9639\n",
      "Epoch 4/5\n",
      "1875/1875 [==============================] - 15s 8ms/step - loss: 0.1244 - accuracy: 0.9693\n",
      "Epoch 5/5\n",
      "1875/1875 [==============================] - 15s 8ms/step - loss: 0.1178 - accuracy: 0.9711\n",
      "313/313 [==============================] - 1s 2ms/step - loss: 0.1017 - accuracy: 0.9781\n",
      "Starting Experiment: Experiment 17\n",
      "{'num_units': 512, 'dropout': 0.5, 'optimizer': 'sgd'}\n",
      "Epoch 1/5\n",
      "1875/1875 [==============================] - 7s 4ms/step - loss: 0.6902 - accuracy: 0.8068: 0s - los\n",
      "Epoch 2/5\n",
      "1875/1875 [==============================] - 8s 4ms/step - loss: 0.3787 - accuracy: 0.8926\n",
      "Epoch 3/5\n",
      "1875/1875 [==============================] - 8s 4ms/step - loss: 0.3189 - accuracy: 0.9097\n",
      "Epoch 4/5\n",
      "1875/1875 [==============================] - 7s 4ms/step - loss: 0.2796 - accuracy: 0.9197\n",
      "Epoch 5/5\n",
      "1875/1875 [==============================] - 7s 4ms/step - loss: 0.2516 - accuracy: 0.9282\n",
      "313/313 [==============================] - 1s 2ms/step - loss: 0.1980 - accuracy: 0.9434\n"
     ]
    }
   ],
   "source": [
    "# running combinations of parameters \n",
    "experiment_no = 0\n",
    "\n",
    "for num_units in HP_NUM_UNITS.domain.values:\n",
    "    for dropout_rate in (HP_DROPOUT.domain.min_value, HP_DROPOUT.domain.max_value):\n",
    "        for optimizer in HP_OPTIMIZER.domain.values:\n",
    "            hparams = {\n",
    "                HP_NUM_UNITS: num_units,\n",
    "                HP_DROPOUT: dropout_rate,\n",
    "                HP_OPTIMIZER: optimizer,}\n",
    "\n",
    "            experiment_name = f'Experiment {experiment_no}'\n",
    "            print(f'Starting Experiment: {experiment_name}')\n",
    "            print({h.name: hparams[h] for h in hparams})\n",
    "            experiment('logs/hparam_tuning/' + experiment_name, hparams)\n",
    "            experiment_no += 1"
   ]
  },
  {
   "cell_type": "code",
   "execution_count": 37,
   "id": "1d15ed89",
   "metadata": {},
   "outputs": [
    {
     "data": {
      "text/plain": [
       "Reusing TensorBoard on port 6006 (pid 19596), started 0:47:52 ago. (Use '!kill 19596' to kill it.)"
      ]
     },
     "metadata": {},
     "output_type": "display_data"
    },
    {
     "data": {
      "text/html": [
       "\n",
       "      <iframe id=\"tensorboard-frame-84bb58b1aaefbf39\" width=\"100%\" height=\"800\" frameborder=\"0\">\n",
       "      </iframe>\n",
       "      <script>\n",
       "        (function() {\n",
       "          const frame = document.getElementById(\"tensorboard-frame-84bb58b1aaefbf39\");\n",
       "          const url = new URL(\"/\", window.location);\n",
       "          const port = 6006;\n",
       "          if (port) {\n",
       "            url.port = port;\n",
       "          }\n",
       "          frame.src = url;\n",
       "        })();\n",
       "      </script>\n",
       "    "
      ],
      "text/plain": [
       "<IPython.core.display.HTML object>"
      ]
     },
     "metadata": {},
     "output_type": "display_data"
    }
   ],
   "source": [
    "%reload_ext tensorboard\n",
    "%tensorboard --logdir logs/hparam_tuning"
   ]
  },
  {
   "cell_type": "code",
   "execution_count": 38,
   "id": "cc5669b1",
   "metadata": {},
   "outputs": [
    {
     "name": "stdout",
     "output_type": "stream",
     "text": [
      "Epoch 1/10\n",
      "1500/1500 [==============================] - 18s 12ms/step - loss: 0.1110 - accuracy: 0.9693 - val_loss: 0.1154 - val_accuracy: 0.9682\n",
      "Epoch 2/10\n",
      "1500/1500 [==============================] - 7s 5ms/step - loss: 0.1063 - accuracy: 0.9704 - val_loss: 0.1126 - val_accuracy: 0.9685\n",
      "Epoch 3/10\n",
      "1500/1500 [==============================] - 7s 5ms/step - loss: 0.1023 - accuracy: 0.9723 - val_loss: 0.1107 - val_accuracy: 0.9685\n",
      "Epoch 4/10\n",
      "1500/1500 [==============================] - 7s 4ms/step - loss: 0.1003 - accuracy: 0.9722 - val_loss: 0.1091 - val_accuracy: 0.9683\n",
      "Epoch 5/10\n",
      "1500/1500 [==============================] - 7s 5ms/step - loss: 0.0966 - accuracy: 0.9730 - val_loss: 0.1064 - val_accuracy: 0.9692\n",
      "Epoch 6/10\n",
      "1500/1500 [==============================] - 7s 5ms/step - loss: 0.0939 - accuracy: 0.9740 - val_loss: 0.1055 - val_accuracy: 0.9696\n",
      "Epoch 7/10\n",
      "1500/1500 [==============================] - 7s 5ms/step - loss: 0.0920 - accuracy: 0.9746 - val_loss: 0.1028 - val_accuracy: 0.9708\n",
      "Epoch 8/10\n",
      "1500/1500 [==============================] - 7s 5ms/step - loss: 0.0898 - accuracy: 0.9747 - val_loss: 0.1012 - val_accuracy: 0.9713\n",
      "Epoch 9/10\n",
      "1500/1500 [==============================] - 7s 5ms/step - loss: 0.0865 - accuracy: 0.9762 - val_loss: 0.0997 - val_accuracy: 0.9718\n",
      "Epoch 10/10\n",
      "1500/1500 [==============================] - 7s 5ms/step - loss: 0.0841 - accuracy: 0.9772 - val_loss: 0.0981 - val_accuracy: 0.9712\n"
     ]
    },
    {
     "data": {
      "text/plain": [
       "<tensorflow.python.keras.callbacks.History at 0x27969897a30>"
      ]
     },
     "execution_count": 38,
     "metadata": {},
     "output_type": "execute_result"
    }
   ],
   "source": [
    "callbacks = [TensorBoard(log_dir=log_folder, \n",
    "                                            profile_batch='10,20')]\n",
    "\n",
    "model.fit(X_train, y_train,\n",
    "          epochs=10,\n",
    "          validation_split=0.2,\n",
    "          callbacks=callbacks)"
   ]
  },
  {
   "cell_type": "code",
   "execution_count": 39,
   "id": "63c0debd",
   "metadata": {},
   "outputs": [
    {
     "data": {
      "text/plain": [
       "Reusing TensorBoard on port 6006 (pid 12840), started 11:07:44 ago. (Use '!kill 12840' to kill it.)"
      ]
     },
     "metadata": {},
     "output_type": "display_data"
    },
    {
     "data": {
      "text/html": [
       "\n",
       "      <iframe id=\"tensorboard-frame-f90631b178293c06\" width=\"100%\" height=\"800\" frameborder=\"0\">\n",
       "      </iframe>\n",
       "      <script>\n",
       "        (function() {\n",
       "          const frame = document.getElementById(\"tensorboard-frame-f90631b178293c06\");\n",
       "          const url = new URL(\"/\", window.location);\n",
       "          const port = 6006;\n",
       "          if (port) {\n",
       "            url.port = port;\n",
       "          }\n",
       "          frame.src = url;\n",
       "        })();\n",
       "      </script>\n",
       "    "
      ],
      "text/plain": [
       "<IPython.core.display.HTML object>"
      ]
     },
     "metadata": {},
     "output_type": "display_data"
    }
   ],
   "source": [
    "# visualize it in TensorBoard under 'accuracy' in the scalars tab\n",
    "%reload_ext tensorboard\n",
    "%tensorboard --logdir=logs"
   ]
  }
 ],
 "metadata": {
  "kernelspec": {
   "display_name": "Python 3",
   "language": "python",
   "name": "python3"
  },
  "language_info": {
   "codemirror_mode": {
    "name": "ipython",
    "version": 3
   },
   "file_extension": ".py",
   "mimetype": "text/x-python",
   "name": "python",
   "nbconvert_exporter": "python",
   "pygments_lexer": "ipython3",
   "version": "3.8.8"
  },
  "toc": {
   "base_numbering": 1,
   "nav_menu": {},
   "number_sections": true,
   "sideBar": true,
   "skip_h1_title": false,
   "title_cell": "Table of Contents",
   "title_sidebar": "Contents",
   "toc_cell": false,
   "toc_position": {},
   "toc_section_display": true,
   "toc_window_display": true
  }
 },
 "nbformat": 4,
 "nbformat_minor": 5
}
